{
  "nbformat": 4,
  "nbformat_minor": 0,
  "metadata": {
    "colab": {
      "provenance": [],
      "toc_visible": true,
      "authorship_tag": "ABX9TyNPxCfOdLGFw5JnJH01DClf",
      "include_colab_link": true
    },
    "kernelspec": {
      "name": "python3",
      "display_name": "Python 3"
    },
    "language_info": {
      "name": "python"
    }
  },
  "cells": [
    {
      "cell_type": "markdown",
      "metadata": {
        "id": "view-in-github",
        "colab_type": "text"
      },
      "source": [
        "<a href=\"https://colab.research.google.com/github/lemcat55/w1StatCalc/blob/main/Week1_Charting_Distributions_Relationships.ipynb\" target=\"_parent\"><img src=\"https://colab.research.google.com/assets/colab-badge.svg\" alt=\"Open In Colab\"/></a>"
      ]
    },
    {
      "cell_type": "markdown",
      "source": [
        "# How to use this Application\n",
        "To use this application, you have to be signed in one of your Google accounts (e.g., be signed in your Gmail account while working with Colab).\n",
        "1.\tClick the white triangle inside the black circle in the cell [1]. It is a one-time operation for the entire session - no matter how many problems you are going to solve. This operation loads necessary libraries and reads data from the online file http://algorain.com/Stat/Week1/Project_Data_Set2.csv. You can replace this file in the code of the cell [1] by another file. For completing the Project Part A, use the file http://algorain.com/Stat/Week1/Project_Data_Set.csv.\n",
        "2.\tIn the Table of contents (on the left side of the application), find the type of the problem you are solving and click the item. First 12 items of the Table deal with processing the data from the file you have read while running cell [1]. That data can be of any size, even very big. The last 5 items of the Table of contents deal with small data in the form of lists.\n",
        "3.\tClicking the item will bring you to the code of the problem you are solving. You are not required to understand the code, but you can replace template input values with your oun input values. Input data is located between two lines ###########. After you make such changes, run the code in the cell by clicking the white triangle in the black circle. Do not be afraid to make errors: you always can close the application and open it again. It will start from the very beginning discarding all your previous changes.\n",
        "\n"
      ],
      "metadata": {
        "id": "BfCkxoKzFIs4"
      }
    },
    {
      "cell_type": "markdown",
      "source": [
        "# **1: Read Data Set and Extract Variables (Columns)**"
      ],
      "metadata": {
        "id": "Y9R1xVlb_Y2q"
      }
    },
    {
      "cell_type": "code",
      "execution_count": null,
      "metadata": {
        "colab": {
          "base_uri": "https://localhost:8080/"
        },
        "id": "7YjUHamWBkvz",
        "outputId": "a9c2792c-61d4-40f1-aefb-4e00a1bb1f7f"
      },
      "outputs": [
        {
          "output_type": "stream",
          "name": "stdout",
          "text": [
            "   Sales (Y)  Calls (X1)  Time (X2)  Years (X3)   Type\n",
            "0         21         116       19.9           3   NONE\n",
            "1         21         116       18.0           2  GROUP\n",
            "    Sales (Y)  Calls (X1)  Time (X2)  Years (X3)    Type\n",
            "98         54         195       15.2           2  ONLINE\n",
            "99         51         198       13.0           1  ONLINE\n"
          ]
        }
      ],
      "source": [
        "import numpy as np\n",
        "import pandas as pd\n",
        "import matplotlib.pyplot as plt\n",
        "import warnings\n",
        "warnings.simplefilter(action='ignore', category=FutureWarning)\n",
        "\n",
        "##  Enter your data #################\n",
        "df=pd.read_csv(\"http://algorain.com/Courses/Statistics/w1/Project_Data_Set2.csv\")\n",
        "\n",
        "####################################\n",
        "print(df.head(2))\n",
        "print(df.tail(2))"
      ]
    },
    {
      "cell_type": "markdown",
      "source": [
        "# **2: Charting of Pie**"
      ],
      "metadata": {
        "id": "FTJUWjDAACRA"
      }
    },
    {
      "cell_type": "code",
      "source": [
        "##  Enter your data #################\n",
        "sCategory='Type'\n",
        "#####################################\n",
        "Category=df[sCategory].value_counts()\n",
        "Category.plot(kind='pie',autopct='%.0f')\n",
        "plt.title(sCategory)\n",
        "plt.show()"
      ],
      "metadata": {
        "colab": {
          "base_uri": "https://localhost:8080/",
          "height": 264
        },
        "id": "TkX5XNs7FK7N",
        "outputId": "d2346e7d-8062-4a84-99e4-493300b7ef36"
      },
      "execution_count": null,
      "outputs": [
        {
          "output_type": "display_data",
          "data": {
            "text/plain": [
              "<Figure size 432x288 with 1 Axes>"
            ],
            "image/png": "[encoded data removed]"
          },
          "metadata": {}
        }
      ]
    },
    {
      "cell_type": "markdown",
      "source": [
        "# **3: Charting of Data Series**"
      ],
      "metadata": {
        "id": "lR_O667bFk20"
      }
    },
    {
      "cell_type": "code",
      "source": [
        "##  Enter your data #################\n",
        "sY='Calls (X1)'\n",
        "#####################################\n",
        "Y=df[sY]\n",
        "Y.plot(color=\"blue\")\n",
        "plt.show()"
      ],
      "metadata": {
        "id": "g39m8J-BFip0",
        "colab": {
          "base_uri": "https://localhost:8080/",
          "height": 265
        },
        "outputId": "14ea8d85-4f68-427d-b044-efd19dd0810d"
      },
      "execution_count": null,
      "outputs": [
        {
          "output_type": "display_data",
          "data": {
            "text/plain": [
              "<Figure size 432x288 with 1 Axes>"
            ],
            "image/png": "[encoded data removed]"
          },
          "metadata": {
            "needs_background": "light"
          }
        }
      ]
    },
    {
      "cell_type": "markdown",
      "source": [
        "# 4: Distribution of Y to several bins with equal width"
      ],
      "metadata": {
        "id": "qZ8B0gBBKm-b"
      }
    },
    {
      "cell_type": "code",
      "source": [
        "##  Enter your data #################\n",
        "sY='Sales (Y)'\n",
        "width=5\n",
        "###################\n",
        "Y=df[sY]\n",
        "left=width*np.floor(Y.min()/width)\n",
        "right=width*np.ceil(Y.max()/width)+width\n",
        "binEdges=np.arange(left, right, width)\n",
        "plt.hist(Y, binEdges)\n",
        "plt.xlabel('Bins')\n",
        "plt.ylabel('Number in the Bin')\n",
        "count, edges = pd.np.histogram(Y,binEdges)\n",
        "print(count)"
      ],
      "metadata": {
        "id": "cauketqkCOZY",
        "colab": {
          "base_uri": "https://localhost:8080/",
          "height": 296
        },
        "outputId": "0d780e9d-1aa6-4be0-fcd1-df18d164bb10"
      },
      "execution_count": null,
      "outputs": [
        {
          "output_type": "stream",
          "name": "stdout",
          "text": [
            "[ 2  1 10  1 38 35 13]\n"
          ]
        },
        {
          "output_type": "display_data",
          "data": {
            "text/plain": [
              "<Figure size 432x288 with 1 Axes>"
            ],
            "image/png": "[encoded data removed]"
          },
          "metadata": {
            "needs_background": "light"
          }
        }
      ]
    },
    {
      "cell_type": "markdown",
      "source": [
        "# **5: Ogive (Optional)**"
      ],
      "metadata": {
        "id": "8rqbseRlsQB4"
      }
    },
    {
      "cell_type": "code",
      "source": [
        "##  Enter your data #################\n",
        "sY='Sales (Y)'\n",
        "width=5\n",
        "###################\n",
        "Y=df[sY]\n",
        "left=width*np.floor(Y.min()/width)\n",
        "right=width*np.ceil(Y.max()/width)+width\n",
        "binEdges=np.arange(left, right, width)\n",
        "frequency, binEdges = np.histogram(Y, bins=binEdges) \n",
        "ogive = np.cumsum(frequency)\n",
        "print(frequency)\n",
        "print(ogive)  \n",
        "# plotting  the ogive graph\n",
        "plt.plot(binEdges[1:], ogive,color\\\n",
        "  ='red', marker='o', linestyle='-')\n",
        "# formatting\n",
        "plt.title('Ogive Graph')\n",
        "plt.xlabel(sY)\n",
        "plt.ylabel('Cumulative Frequency')\n",
        "plt.show()"
      ],
      "metadata": {
        "id": "MI3B4ICuOqrD",
        "colab": {
          "base_uri": "https://localhost:8080/",
          "height": 330
        },
        "outputId": "d730e7dd-eb7a-4033-b5b5-becd07ebb3dd"
      },
      "execution_count": null,
      "outputs": [
        {
          "output_type": "stream",
          "name": "stdout",
          "text": [
            "[ 2  1 10  1 38 35 13]\n",
            "[  2   3  13  14  52  87 100]\n"
          ]
        },
        {
          "output_type": "display_data",
          "data": {
            "text/plain": [
              "<Figure size 432x288 with 1 Axes>"
            ],
            "image/png": "[encoded data removed]"
          },
          "metadata": {
            "needs_background": "light"
          }
        }
      ]
    },
    {
      "cell_type": "markdown",
      "source": [
        "# **6: Relationships: Quantitative-Quantitative**\n",
        "\n"
      ],
      "metadata": {
        "id": "3Blugb_LEiwS"
      }
    },
    {
      "cell_type": "code",
      "source": [
        "##  Enter your data #################\n",
        "sX='Calls (X1)'\n",
        "sY='Sales (Y)'\n",
        "###################\n",
        "X=df[sX]\n",
        "Y=df[sY]\n",
        "plt.scatter(X,Y)\n",
        "plt.title(sY+' vs '+sX)\n",
        "plt.xlabel(sX)\n",
        "plt.ylabel(sY)\n",
        "plt.show()"
      ],
      "metadata": {
        "id": "0G2O8WSlgwDU",
        "colab": {
          "base_uri": "https://localhost:8080/",
          "height": 295
        },
        "outputId": "2bbe02ec-44fe-4b45-b75a-22fafdfb06de"
      },
      "execution_count": null,
      "outputs": [
        {
          "output_type": "display_data",
          "data": {
            "text/plain": [
              "<Figure size 432x288 with 1 Axes>"
            ],
            "image/png": "[encoded data removed]"
          },
          "metadata": {
            "needs_background": "light"
          }
        }
      ]
    },
    {
      "cell_type": "markdown",
      "source": [
        "# 7: Relationships: Quantitative-Qualitative"
      ],
      "metadata": {
        "id": "91HCjhuJG5CY"
      }
    },
    {
      "cell_type": "code",
      "source": [
        "##  Enter your data #################\n",
        "sCategory='Type'\n",
        "sY='Sales (Y)'\n",
        "###################\n",
        "avgs=df.groupby(sCategory)[sY].mean()\n",
        "avgs.plot(kind='bar')\n",
        "plt.title('Avg of '+ sY+' grouped by\\\n",
        " '+ sCategory)\n",
        "plt.ylabel('Avg of '+ sY)\n",
        "plt.show()\n",
        "avgs=df.groupby(sCategory)[sY].mean()\n",
        "print('averages\\n',avgs)\n",
        "\n",
        "stds=df.groupby(sCategory)[sY].std()\n",
        "print('\\nstds\\n',stds)\n",
        "stds=df.groupby(sCategory)[sY].sum()\n",
        "print('\\nsum\\n',stds)"
      ],
      "metadata": {
        "id": "wEIgscEhFGIk",
        "colab": {
          "base_uri": "https://localhost:8080/",
          "height": 670
        },
        "outputId": "248ae3a5-87af-41f0-b8c6-02eca9d35c4f"
      },
      "execution_count": null,
      "outputs": [
        {
          "output_type": "display_data",
          "data": {
            "text/plain": [
              "<Figure size 432x288 with 1 Axes>"
            ],
            "image/png": "[encoded data removed]"
          },
          "metadata": {
            "needs_background": "light"
          }
        },
        {
          "output_type": "stream",
          "name": "stdout",
          "text": [
            "averages\n",
            " Type\n",
            "GROUP     41.341463\n",
            "NONE      40.461538\n",
            "ONLINE    45.956522\n",
            "Name: Sales (Y), dtype: float64\n",
            "\n",
            "stds\n",
            " Type\n",
            "GROUP     6.338808\n",
            "NONE      6.577935\n",
            "ONLINE    4.930434\n",
            "Name: Sales (Y), dtype: float64\n",
            "\n",
            "sum\n",
            " Type\n",
            "GROUP     1695\n",
            "NONE       526\n",
            "ONLINE    2114\n",
            "Name: Sales (Y), dtype: int64\n"
          ]
        }
      ]
    },
    {
      "cell_type": "markdown",
      "source": [
        "# 8: Relationships: scatter plot"
      ],
      "metadata": {
        "id": "_rV9z5oJZ1x6"
      }
    },
    {
      "cell_type": "code",
      "source": [
        "##  Enter your data #################\n",
        "sX='Years (X3)'\n",
        "sY='Sales (Y)'\n",
        "###################\n",
        "X=df[sX]\n",
        "plt.scatter(X, Y)\n",
        "plt.title(sY+' & '+sX)\n",
        "plt.xlabel(sX)\n",
        "plt.ylabel(sY)\n",
        "plt.show()"
      ],
      "metadata": {
        "id": "_Gyllkk8FqKu",
        "colab": {
          "base_uri": "https://localhost:8080/",
          "height": 295
        },
        "outputId": "fe773a85-ef3c-47ce-cbfd-76cac2357dea"
      },
      "execution_count": null,
      "outputs": [
        {
          "output_type": "display_data",
          "data": {
            "text/plain": [
              "<Figure size 432x288 with 1 Axes>"
            ],
            "image/png": "[encoded data removed]"
          },
          "metadata": {
            "needs_background": "light"
          }
        }
      ]
    },
    {
      "cell_type": "markdown",
      "source": [
        "# 9: Relationships: groupby, sum"
      ],
      "metadata": {
        "id": "DUm4xH6O1vI7"
      }
    },
    {
      "cell_type": "code",
      "source": [
        "##  Enter your data #################\n",
        "sX='Years (X3)'\n",
        "sY='Sales (Y)'\n",
        "###################\n",
        "g=df.groupby(sX)[sY].mean()\n",
        "g.plot(kind='bar')\n",
        "plt.title('Sum of '+sY+'\\\n",
        " by '+ sX)\n",
        "plt.ylabel('Sum of '+sY)\n",
        "plt.xlabel(sX)\n",
        "plt.show()"
      ],
      "metadata": {
        "id": "w_DkjDFcW7PL",
        "colab": {
          "base_uri": "https://localhost:8080/",
          "height": 292
        },
        "outputId": "332cd930-e5ca-4f91-a67d-b0cf0b11cf3e"
      },
      "execution_count": null,
      "outputs": [
        {
          "output_type": "display_data",
          "data": {
            "text/plain": [
              "<Figure size 432x288 with 1 Axes>"
            ],
            "image/png": "[encoded data removed]"
          },
          "metadata": {
            "needs_background": "light"
          }
        }
      ]
    },
    {
      "cell_type": "markdown",
      "source": [
        "# 10: Relationships: groupby, mean"
      ],
      "metadata": {
        "id": "gnv-l75M19hU"
      }
    },
    {
      "cell_type": "code",
      "source": [
        "##  Enter your data #################\n",
        "sX='Years (X3)'\n",
        "sY='Sales (Y)'\n",
        "###################\n",
        "g=df.groupby(sX)[sY].mean()\n",
        "g.plot(kind='line')\n",
        "plt.title('Average '+sY+'\\\n",
        " by '+sX)\n",
        "plt.ylabel('Average '+ sY)\n",
        "plt.xlabel(sX)\n",
        "plt.show()"
      ],
      "metadata": {
        "id": "pmhIpr4BYUED",
        "colab": {
          "base_uri": "https://localhost:8080/",
          "height": 295
        },
        "outputId": "95fe7349-5d44-493e-b983-ee2ad23f847e"
      },
      "execution_count": null,
      "outputs": [
        {
          "output_type": "display_data",
          "data": {
            "text/plain": [
              "<Figure size 432x288 with 1 Axes>"
            ],
            "image/png": "[encoded data removed]"
          },
          "metadata": {
            "needs_background": "light"
          }
        }
      ]
    },
    {
      "cell_type": "markdown",
      "source": [
        "# **11: Calculation of statistics**"
      ],
      "metadata": {
        "id": "yYXKd2Bqhwyy"
      }
    },
    {
      "cell_type": "code",
      "source": [
        "##  Enter your data #################\n",
        "sY='Sales (Y)'\n",
        "###################\n",
        "Y=df[sY]\n",
        "print(Y.describe())\n",
        "print(df.describe())"
      ],
      "metadata": {
        "id": "6IbeteLMLJOR",
        "colab": {
          "base_uri": "https://localhost:8080/"
        },
        "outputId": "5c291313-c8a6-4c98-96b5-add6285ea30c"
      },
      "execution_count": null,
      "outputs": [
        {
          "output_type": "stream",
          "name": "stdout",
          "text": [
            "count    100.000000\n",
            "mean      43.350000\n",
            "std        6.200969\n",
            "min       21.000000\n",
            "25%       41.750000\n",
            "50%       44.000000\n",
            "75%       47.000000\n",
            "max       54.000000\n",
            "Name: Sales (Y), dtype: float64\n",
            "        Sales (Y)  Calls (X1)   Time (X2)  Years (X3)\n",
            "count  100.000000  100.000000  100.000000   100.00000\n",
            "mean    43.350000  158.860000   15.531000     2.22000\n",
            "std      6.200969   18.497076    2.716976     1.25995\n",
            "min     21.000000  116.000000   10.000000     0.00000\n",
            "25%     41.750000  146.000000   13.200000     1.00000\n",
            "50%     44.000000  157.500000   15.350000     2.00000\n",
            "75%     47.000000  173.250000   17.550000     3.00000\n",
            "max     54.000000  198.000000   22.000000     5.00000\n"
          ]
        }
      ]
    },
    {
      "cell_type": "markdown",
      "source": [
        "# 12: Box-and-Whiskers plot"
      ],
      "metadata": {
        "id": "z2TFSWfPx7WH"
      }
    },
    {
      "cell_type": "code",
      "source": [
        "##  Enter your data #################\n",
        "sX='Time (X2)'\n",
        "#####################################\n",
        "X=df[sX]\n",
        "X.plot(kind = 'box')\n",
        "plt.title('Calls Frequencies')\n",
        "plt.ylabel('Frequancy')\n",
        "plt.show()"
      ],
      "metadata": {
        "id": "yf686X57jeOm",
        "colab": {
          "base_uri": "https://localhost:8080/",
          "height": 281
        },
        "outputId": "5baa2dbb-e8f9-4e4a-bad0-6fd14457bedf"
      },
      "execution_count": null,
      "outputs": [
        {
          "output_type": "display_data",
          "data": {
            "text/plain": [
              "<Figure size 432x288 with 1 Axes>"
            ],
            "image/png": "[encoded data removed]"
          },
          "metadata": {
            "needs_background": "light"
          }
        }
      ]
    },
    {
      "cell_type": "markdown",
      "source": [
        "# 13: Lists: Sorting Qualitative Data\n"
      ],
      "metadata": {
        "id": "uAtRt6RRqn10"
      }
    },
    {
      "cell_type": "code",
      "source": [
        "##  Enter your data #################\n",
        "x=[\"A\",\"B\",\"C\"]\n",
        "y=[1,3,2]\n",
        "#######################\n",
        "plt.bar(x, y) # histogram\n",
        "DF = pd.DataFrame({'count':y})\n",
        "DF.index = x\n",
        "DF = DF.sort_values(by='count', ascending=False)\n",
        "DF.plot(kind='bar')# sorted bars\n",
        "plt.show()"
      ],
      "metadata": {
        "id": "BwQ5TBwOpV6x",
        "colab": {
          "base_uri": "https://localhost:8080/",
          "height": 510
        },
        "outputId": "ecb1bfd9-7595-4147-82c8-a5f11a055d10"
      },
      "execution_count": null,
      "outputs": [
        {
          "output_type": "display_data",
          "data": {
            "text/plain": [
              "<Figure size 432x288 with 1 Axes>"
            ],
            "image/png": "[encoded data removed]"
          },
          "metadata": {
            "needs_background": "light"
          }
        },
        {
          "output_type": "display_data",
          "data": {
            "text/plain": [
              "<Figure size 432x288 with 1 Axes>"
            ],
            "image/png": "[encoded data removed]"
          },
          "metadata": {
            "needs_background": "light"
          }
        }
      ]
    },
    {
      "cell_type": "markdown",
      "source": [
        "# **14: Lists: Distribution to several bins of equal width**"
      ],
      "metadata": {
        "id": "vvFVZi78jAJW"
      }
    },
    {
      "cell_type": "code",
      "source": [
        "##  Enter your data #################\n",
        "lst=[57,23,35,18,21,26,51,47,29,21,46,43,29,23,39,29,41,19,36,28,31,42,43,29,18,28,46,33,28,20]\n",
        "nBins=5\n",
        "######################\n",
        "DF = pd.DataFrame(lst)\n",
        "ax=DF.plot.hist(bins=nBins)"
      ],
      "metadata": {
        "colab": {
          "base_uri": "https://localhost:8080/",
          "height": 265
        },
        "id": "qCHl62AkjmDy",
        "outputId": "651453a4-84fb-4a94-db5f-85ab4a87071c"
      },
      "execution_count": null,
      "outputs": [
        {
          "output_type": "display_data",
          "data": {
            "text/plain": [
              "<Figure size 432x288 with 1 Axes>"
            ],
            "image/png": "[encoded data removed]"
          },
          "metadata": {
            "needs_background": "light"
          }
        }
      ]
    },
    {
      "cell_type": "markdown",
      "source": [
        "# 15: Lists: Distribution to bins with known Edges for each bin"
      ],
      "metadata": {
        "id": "GTDUe9lzp5SY"
      }
    },
    {
      "cell_type": "code",
      "source": [
        "##  Enter your data #################\n",
        "lst=[22,23,35,18,21,26,51,47,49,21,46,43,29,23,49,50,41,19,36,28,31,42,52,29,55,28,46,33,28,29]\n",
        "binEdges=[16,23,30,37,44,51,58]\n",
        "#####################################\n",
        "DF = pd.DataFrame(lst)\n",
        "DF.plot.hist(bins=binEdges)\n",
        "plt.show()"
      ],
      "metadata": {
        "colab": {
          "base_uri": "https://localhost:8080/",
          "height": 265
        },
        "id": "oh72EL9fjSKc",
        "outputId": "91ce51a5-03e3-47ac-fc4f-b23cc4851221"
      },
      "execution_count": null,
      "outputs": [
        {
          "output_type": "display_data",
          "data": {
            "text/plain": [
              "<Figure size 432x288 with 1 Axes>"
            ],
            "image/png": "[encoded data removed]"
          },
          "metadata": {
            "needs_background": "light"
          }
        }
      ]
    },
    {
      "cell_type": "markdown",
      "source": [
        "# 16: Lists: Distribution to bins with known left,right,  and width"
      ],
      "metadata": {
        "id": "fYxmH5dokldh"
      }
    },
    {
      "cell_type": "code",
      "source": [
        "from statistics import mode\n",
        "##  Enter your data #################\n",
        "data = np.array([1, 4, 6, 2, 4, 7, 6, 6, 4, 2, 5, 7, 4, 4, 3, 6, 4, 7, 7, 4, 6, 7, 7, 4, 7, 4, 6, 6])\n",
        "left=0.5\n",
        "right=10.5\n",
        "width=1\n",
        "###############################\n",
        "plt.hist(data, np.arange(left, right, width),color=\"green\")\n",
        "plt.show()\n",
        "DF=pd.DataFrame(data)\n",
        "print(\"median=\",DF[0].median())\n",
        "print(\"mean=\",DF[0].mean())\n",
        "print(\"mode=\", mode(DF[0]))\n",
        "plt.show()"
      ],
      "metadata": {
        "id": "U7mCkO8uq2ZB",
        "colab": {
          "base_uri": "https://localhost:8080/",
          "height": 317
        },
        "outputId": "f5bdffe7-a2c5-40db-ce2c-c2f9f2e8f475"
      },
      "execution_count": null,
      "outputs": [
        {
          "output_type": "display_data",
          "data": {
            "text/plain": [
              "<Figure size 432x288 with 1 Axes>"
            ],
            "image/png": "[encoded data removed]"
          },
          "metadata": {
            "needs_background": "light"
          }
        },
        {
          "output_type": "stream",
          "name": "stdout",
          "text": [
            "median= 5.5\n",
            "mean= 5.0\n",
            "mode= 4\n"
          ]
        }
      ]
    },
    {
      "cell_type": "markdown",
      "source": [
        "# 17: Lists: Distribution to bins with given boundaries for each bin "
      ],
      "metadata": {
        "id": "qBgG5qeqrHGu"
      }
    },
    {
      "cell_type": "code",
      "source": [
        "##  Enter your data #################\n",
        "lst=[57,23,35,18,21,26,51,47,29,21,46,43,29,23,39,29,41,19,36,28,31,42,43,29,18,28,46,33,28,20]\n",
        "binEdges=[16,23,30,37,44,51,58]\n",
        "################################\n",
        "DF1 = pd.DataFrame(lst)\n",
        "ax=DF1.plot.hist(bins=binEdges)\n",
        "plt.show()"
      ],
      "metadata": {
        "id": "OEzcgOT-uiZ8",
        "colab": {
          "base_uri": "https://localhost:8080/",
          "height": 265
        },
        "outputId": "dbe147ea-9c96-454a-f670-542825401357"
      },
      "execution_count": null,
      "outputs": [
        {
          "output_type": "display_data",
          "data": {
            "text/plain": [
              "<Figure size 432x288 with 1 Axes>"
            ],
            "image/png": "[encoded data removed]"
          },
          "metadata": {
            "needs_background": "light"
          }
        }
      ]
    },
    {
      "cell_type": "markdown",
      "source": [
        "# 18: Lists: Calculation of Statistics"
      ],
      "metadata": {
        "id": "MafbASYXOipj"
      }
    },
    {
      "cell_type": "code",
      "source": [
        "##  Enter your data #################\n",
        "lst=[3,4,6,11,22 ]\n",
        "#########################\n",
        "df1=pd.DataFrame(lst)\n",
        "print(df1.describe())\n",
        "print('var=',df1[0].var())"
      ],
      "metadata": {
        "colab": {
          "base_uri": "https://localhost:8080/"
        },
        "id": "yYe3ZOTcOy0r",
        "outputId": "dbfaf273-0a12-4817-d642-41b4ee3f7391"
      },
      "execution_count": null,
      "outputs": [
        {
          "output_type": "stream",
          "name": "stdout",
          "text": [
            "              0\n",
            "count   5.00000\n",
            "mean    9.20000\n",
            "std     7.79102\n",
            "min     3.00000\n",
            "25%     4.00000\n",
            "50%     6.00000\n",
            "75%    11.00000\n",
            "max    22.00000\n",
            "var= 60.7\n"
          ]
        }
      ]
    },
    {
      "cell_type": "markdown",
      "source": [
        "# 19: Statistics by groups"
      ],
      "metadata": {
        "id": "iFKWZ-tePNPJ"
      }
    },
    {
      "cell_type": "code",
      "source": [
        "means=df.groupby(\"Type\")[\"Calls (X1)\"].mean()\n",
        "print(\"Means:\\n\",means)\n",
        "stds=df.groupby(\"Type\")[\"Calls (X1)\"].std()\n",
        "print(\"\\nStandard deviations:\\n\",stds)\n",
        "count=df.groupby(\"Type\").count()\n",
        "print(\"\\nCount:\\n\",count)"
      ],
      "metadata": {
        "colab": {
          "base_uri": "https://localhost:8080/"
        },
        "id": "EFRM7jCNMsOT",
        "outputId": "8c98197c-069a-4e57-db01-30c2a0a5d61c"
      },
      "execution_count": null,
      "outputs": [
        {
          "output_type": "stream",
          "name": "stdout",
          "text": [
            "Means:\n",
            " Type\n",
            "GROUP     154.512195\n",
            "NONE      150.230769\n",
            "ONLINE    165.173913\n",
            "Name: Calls (X1), dtype: float64\n",
            "\n",
            "Standard deviations:\n",
            " Type\n",
            "GROUP     18.418906\n",
            "NONE      15.833266\n",
            "ONLINE    17.458910\n",
            "Name: Calls (X1), dtype: float64\n",
            "\n",
            "Count:\n",
            "         Sales (Y)  Calls (X1)  Time (X2)  Years (X3)\n",
            "Type                                                \n",
            "GROUP          41          41         41          41\n",
            "NONE           13          13         13          13\n",
            "ONLINE         46          46         46          46\n"
          ]
        }
      ]
    }
  ]
}